{
 "cells": [
  {
   "cell_type": "code",
   "execution_count": 2,
   "id": "73b47a32",
   "metadata": {},
   "outputs": [],
   "source": [
    "import os\n",
    "import time\n",
    "import copy\n",
    "import json\n",
    "import numpy as np\n",
    "from tqdm import tqdm\n",
    "import torch\n",
    "from torch.utils.data import Subset\n",
    "\n",
    "from torch.utils.data import ConcatDataset #unseen data를 통해서 언러닝 재학습에서 사용.\n",
    "from torch.utils.data import TensorDataset\n",
    "\n",
    "from options import args_parser\n",
    "from update import LocalUpdate, test_inference\n",
    "from models import CNNMnist, Generator, Discriminator, generate_images, filter_images\n",
    "from utils import get_dataset, average_weights, exp_details, create_poisoned_dataset\n",
    "from unlearn import (\n",
    "    train_generator_ungan,\n",
    "    SyntheticImageDataset,\n",
    "    partition_synthetic_data_iid,\n",
    "    get_synthetic_subset\n",
    ")\n",
    "from evaluate_mia import evaluate_mia"
   ]
  },
  {
   "cell_type": "code",
   "execution_count": 4,
   "id": "30ef2c9d",
   "metadata": {},
   "outputs": [],
   "source": [
    "def move_dataset_to_device(dataset, device):\n",
    "    images = []\n",
    "    labels = []\n",
    "    for x, y in dataset:\n",
    "        images.append(x.to(device))\n",
    "        labels.append(torch.tensor(y).to(device))\n",
    "    return TensorDataset(torch.stack(images), torch.stack(labels))\n",
    "\n",
    "\n",
    "def add_backdoor_trigger(x):\n",
    "    x_bd = x.clone()\n",
    "    x_bd[:, 25:28, 25:28] = 0.9\n",
    "    return x_bd\n",
    "\n",
    "def evaluate_backdoor_asr(model, dataset, target_label, device):\n",
    "    model.eval()\n",
    "    total = 0\n",
    "    correct = 0\n",
    "    with torch.no_grad():\n",
    "        for i in range(len(dataset)):\n",
    "            x, y = dataset[i]\n",
    "            # 백도어 트리거 삽입\n",
    "            x_bd = add_backdoor_trigger(x).to(device)\n",
    "            x_bd = x_bd.unsqueeze(0)  # 배치 차원 추가\n",
    "\n",
    "            output = model(x_bd)\n",
    "            pred = output.argmax(dim=1).item()\n",
    "\n",
    "            total += 1\n",
    "            if pred == target_label:\n",
    "                correct += 1\n",
    "\n",
    "    asr = correct / total\n",
    "    return asr\n",
    "\n",
    "def select_model(args, train_dataset):\n",
    "    if args.model == 'cnn':\n",
    "        return CNNMnist(args=args)\n",
    "    else:\n",
    "        raise NotImplementedError\n"
   ]
  },
  {
   "cell_type": "code",
   "execution_count": 5,
   "id": "39658942",
   "metadata": {},
   "outputs": [],
   "source": [
    "def main():\n",
    "    start_time = time.time()\n",
    "    args = args_parser()\n",
    "    device = 'cuda' if args.gpu and torch.cuda.is_available() else 'cpu'\n",
    "\n",
    "    exp_details(args)\n",
    "\n",
    "    # ===================== 1. 데이터셋 로딩 및 초기화 =====================\n",
    "    train_dataset, test_dataset,unseen_dataset, user_groups = get_dataset(args)\n",
    "    \n",
    "\n",
    "    full_dataset, user_groups = create_poisoned_dataset(train_dataset, user_groups, args,\n",
    "                                                        malicious_client=0,\n",
    "                                                        target_label=6,\n",
    "                                                        poison_ratio=0.8)\n",
    "\n",
    "    global_model = select_model(args, full_dataset).to(device)\n",
    "    global_model.train()\n",
    "\n",
    "    generator = Generator(z_dim=args.z_dim).to(device)\n",
    "    discriminator = Discriminator().to(device)\n",
    "\n",
    "    global_weights = global_model.state_dict()\n",
    "    train_loss, train_accuracy = [], []\n",
    "\n",
    "    forget_client = 0\n",
    "    forget_idxs = user_groups[forget_client]\n",
    "    retain_idxs = [i for i in range(len(train_dataset)) if i not in forget_idxs]\n",
    "    test_idxs = np.random.choice(len(test_dataset), len(forget_idxs), replace=False)\n",
    "\n",
    "    # ===================== 2. 연합 학습 (FedAvg) =====================\n",
    "    for epoch in tqdm(range(args.epochs), desc='Global Training Rounds'):\n",
    "        print(f'\\n| Global Training Round : {epoch + 1} |')\n",
    "\n",
    "        local_weights, local_losses = [], []\n",
    "        m = max(int(args.frac * args.num_users), 1)\n",
    "        idxs_users = np.random.choice(range(args.num_users), m, replace=False)\n",
    "\n",
    "        for idx in idxs_users:\n",
    "            if idx == forget_client:\n",
    "                continue  # 언러닝 요청자 제거 / 재학습\n",
    "\n",
    "            local_model = LocalUpdate(args=args, dataset=full_dataset, idxs=user_groups[idx])\n",
    "            w, loss = local_model.update_weights(model=copy.deepcopy(global_model), global_round=epoch)\n",
    "            local_weights.append(copy.deepcopy(w))\n",
    "            local_losses.append(loss)\n",
    "\n",
    "        global_weights = average_weights(local_weights)\n",
    "        global_model.load_state_dict(global_weights)\n",
    "\n",
    "        loss_avg = sum(local_losses) / len(local_losses)\n",
    "        acc, _ = test_inference(args, global_model, test_dataset)\n",
    "        train_loss.append(loss_avg)\n",
    "        train_accuracy.append(acc)\n",
    "\n",
    "        print(f\"Training Loss: {loss_avg:.4f} | Train Accuracy: {acc*100:.2f}%\")\n",
    "    end_time = time.time()\n",
    "    elapsed_time = end_time - start_time\n",
    "\n",
    "    print(f\"Re_Training Time: {elapsed_time:.2f}초\")\n",
    "    test_acc_before, test_loss_before = test_inference(args, global_model, test_dataset)\n",
    "    print(f\"\\n[Test Before Unlearning] Accuracy: {test_acc_before*100:.2f}% | Loss: {test_loss_before:.4f}\")\n",
    "    print(\"[MIA] Evaluating membership inference attack...\")\n",
    "    \n",
    "    all_idxs = set(range(len(full_dataset)))\n",
    "    non_member_candidates = list(all_idxs - set(forget_idxs))\n",
    "    #여기에서 쉐도우에는 forget 데이터가 없도록 하기.\n",
    "    mia_result = evaluate_mia(\n",
    "        model=global_model,\n",
    "        dataset=full_dataset,\n",
    "        test_dataset= test_dataset,\n",
    "        forget_idxs=forget_idxs,\n",
    "        retain_idxs=test_idxs,\n",
    "        shadow_idxs=np.random.choice(non_member_candidates, len(forget_idxs), replace=False),\n",
    "        device=device,\n",
    "        save_path=\"./mia_result_before.json\"\n",
    "    )\n",
    "\n",
    "    print(f\"[MIA] AUC: {mia_result['auc']:.4f}\")\n",
    "    print(\"\\n[Backdoor Attack Success Rate Evaluation]\")\n",
    "    target_label = 6  # 공격 대상 라벨 (main() 함수와 맞춰야 함)\n",
    "    asr = evaluate_backdoor_asr(global_model, test_dataset, target_label, device)\n",
    "    print(f\"Backdoor Attack Success Rate (ASR): {asr*100:.2f}%\")\n",
    "\n",
    "    #torch.save(global_model.state_dict(), args.save_model)\n",
    "    #print(f\"[Saved] model to {args.save_model}\\n\")"
   ]
  },
  {
   "cell_type": "code",
   "execution_count": null,
   "id": "c3498a55",
   "metadata": {},
   "outputs": [],
   "source": [
    "import sys\n",
    "\n",
    "sys.argv = [\n",
    "    'ipykernel_launcher.py',\n",
    "    '--epochs', '100',\n",
    "    '--num_users', '10',\n",
    "    '--frac', '1.0',\n",
    "    '--local_ep', '10',\n",
    "    '--local_bs', '64',\n",
    "    '--lr', '0.01',\n",
    "    '--momentum', '0.75',\n",
    "    '--dataset', 'mnist',\n",
    "    '--model', 'cnn',\n",
    "    '--iid', '1',\n",
    "    '--gpu', '0',\n",
    "    '--num_classes', '10',\n",
    "    '--load_model', 'None',\n",
    "    '--save_model', './saved_models/model.pth',\n",
    "    '--z_dim', '100',\n",
    "    '--gen_threshold', '0.7',\n",
    "    '--num_gen_samples', '128'\n",
    "]\n"
   ]
  },
  {
   "cell_type": "code",
   "execution_count": 7,
   "id": "21f8646d",
   "metadata": {},
   "outputs": [
    {
     "name": "stdout",
     "output_type": "stream",
     "text": [
      "===== Experiment Settings =====\n",
      "Model           : cnn\n",
      "Dataset         : mnist\n",
      "Num Clients     : 10\n",
      "Fraction        : 1.0\n",
      "IID             : 1\n",
      "Local Epochs    : 10\n",
      "Batch Size      : 64\n",
      "Learning Rate   : 0.01\n",
      "Generator z_dim : 100\n",
      "Disc. Threshold : 0.7\n",
      "===============================\n"
     ]
    },
    {
     "name": "stderr",
     "output_type": "stream",
     "text": [
      "Global Training Rounds:   0%|          | 0/200 [00:00<?, ?it/s]"
     ]
    },
    {
     "name": "stdout",
     "output_type": "stream",
     "text": [
      "\n",
      "| Global Training Round : 1 |\n"
     ]
    },
    {
     "name": "stderr",
     "output_type": "stream",
     "text": [
      "Global Training Rounds:   0%|          | 1/200 [00:10<33:27, 10.09s/it]"
     ]
    },
    {
     "name": "stdout",
     "output_type": "stream",
     "text": [
      "Training Loss: 0.2116 | Train Accuracy: 98.03%\n",
      "\n",
      "| Global Training Round : 2 |\n"
     ]
    },
    {
     "name": "stderr",
     "output_type": "stream",
     "text": [
      "Global Training Rounds:   1%|          | 2/200 [00:20<34:06, 10.33s/it]"
     ]
    },
    {
     "name": "stdout",
     "output_type": "stream",
     "text": [
      "Training Loss: 0.0364 | Train Accuracy: 98.64%\n",
      "\n",
      "| Global Training Round : 3 |\n"
     ]
    },
    {
     "name": "stderr",
     "output_type": "stream",
     "text": [
      "Global Training Rounds:   2%|▏         | 3/200 [00:29<32:08,  9.79s/it]"
     ]
    },
    {
     "name": "stdout",
     "output_type": "stream",
     "text": [
      "Training Loss: 0.0213 | Train Accuracy: 98.78%\n",
      "\n",
      "| Global Training Round : 4 |\n"
     ]
    },
    {
     "name": "stderr",
     "output_type": "stream",
     "text": [
      "Global Training Rounds:   2%|▏         | 4/200 [00:38<31:12,  9.55s/it]"
     ]
    },
    {
     "name": "stdout",
     "output_type": "stream",
     "text": [
      "Training Loss: 0.0148 | Train Accuracy: 98.93%\n",
      "\n",
      "| Global Training Round : 5 |\n"
     ]
    },
    {
     "name": "stderr",
     "output_type": "stream",
     "text": [
      "Global Training Rounds:   2%|▎         | 5/200 [00:48<30:49,  9.48s/it]"
     ]
    },
    {
     "name": "stdout",
     "output_type": "stream",
     "text": [
      "Training Loss: 0.0114 | Train Accuracy: 98.96%\n",
      "\n",
      "| Global Training Round : 6 |\n"
     ]
    },
    {
     "name": "stderr",
     "output_type": "stream",
     "text": [
      "Global Training Rounds:   3%|▎         | 6/200 [00:57<30:32,  9.44s/it]"
     ]
    },
    {
     "name": "stdout",
     "output_type": "stream",
     "text": [
      "Training Loss: 0.0094 | Train Accuracy: 99.01%\n",
      "\n",
      "| Global Training Round : 7 |\n"
     ]
    },
    {
     "name": "stderr",
     "output_type": "stream",
     "text": [
      "Global Training Rounds:   4%|▎         | 7/200 [01:07<30:16,  9.41s/it]"
     ]
    },
    {
     "name": "stdout",
     "output_type": "stream",
     "text": [
      "Training Loss: 0.0078 | Train Accuracy: 99.05%\n",
      "\n",
      "| Global Training Round : 8 |\n"
     ]
    },
    {
     "name": "stderr",
     "output_type": "stream",
     "text": [
      "Global Training Rounds:   4%|▍         | 8/200 [01:16<29:44,  9.29s/it]"
     ]
    },
    {
     "name": "stdout",
     "output_type": "stream",
     "text": [
      "Training Loss: 0.0070 | Train Accuracy: 99.06%\n",
      "\n",
      "| Global Training Round : 9 |\n"
     ]
    },
    {
     "name": "stderr",
     "output_type": "stream",
     "text": [
      "Global Training Rounds:   4%|▍         | 9/200 [01:25<29:24,  9.24s/it]"
     ]
    },
    {
     "name": "stdout",
     "output_type": "stream",
     "text": [
      "Training Loss: 0.0061 | Train Accuracy: 99.07%\n",
      "\n",
      "| Global Training Round : 10 |\n"
     ]
    },
    {
     "name": "stderr",
     "output_type": "stream",
     "text": [
      "Global Training Rounds:   5%|▌         | 10/200 [01:36<31:04,  9.81s/it]"
     ]
    },
    {
     "name": "stdout",
     "output_type": "stream",
     "text": [
      "Training Loss: 0.0053 | Train Accuracy: 99.07%\n",
      "\n",
      "| Global Training Round : 11 |\n"
     ]
    },
    {
     "name": "stderr",
     "output_type": "stream",
     "text": [
      "Global Training Rounds:   6%|▌         | 11/200 [01:45<30:21,  9.64s/it]"
     ]
    },
    {
     "name": "stdout",
     "output_type": "stream",
     "text": [
      "Training Loss: 0.0049 | Train Accuracy: 99.12%\n",
      "\n",
      "| Global Training Round : 12 |\n"
     ]
    },
    {
     "name": "stderr",
     "output_type": "stream",
     "text": [
      "Global Training Rounds:   6%|▌         | 12/200 [01:54<29:40,  9.47s/it]"
     ]
    },
    {
     "name": "stdout",
     "output_type": "stream",
     "text": [
      "Training Loss: 0.0043 | Train Accuracy: 99.15%\n",
      "\n",
      "| Global Training Round : 13 |\n"
     ]
    },
    {
     "name": "stderr",
     "output_type": "stream",
     "text": [
      "Global Training Rounds:   6%|▋         | 13/200 [02:03<29:12,  9.37s/it]"
     ]
    },
    {
     "name": "stdout",
     "output_type": "stream",
     "text": [
      "Training Loss: 0.0039 | Train Accuracy: 99.12%\n",
      "\n",
      "| Global Training Round : 14 |\n"
     ]
    },
    {
     "name": "stderr",
     "output_type": "stream",
     "text": [
      "Global Training Rounds:   7%|▋         | 14/200 [02:12<28:43,  9.27s/it]"
     ]
    },
    {
     "name": "stdout",
     "output_type": "stream",
     "text": [
      "Training Loss: 0.0038 | Train Accuracy: 99.12%\n",
      "\n",
      "| Global Training Round : 15 |\n"
     ]
    },
    {
     "name": "stderr",
     "output_type": "stream",
     "text": [
      "Global Training Rounds:   8%|▊         | 15/200 [02:21<28:26,  9.22s/it]"
     ]
    },
    {
     "name": "stdout",
     "output_type": "stream",
     "text": [
      "Training Loss: 0.0033 | Train Accuracy: 99.14%\n",
      "\n",
      "| Global Training Round : 16 |\n"
     ]
    },
    {
     "name": "stderr",
     "output_type": "stream",
     "text": [
      "Global Training Rounds:   8%|▊         | 16/200 [02:31<28:15,  9.22s/it]"
     ]
    },
    {
     "name": "stdout",
     "output_type": "stream",
     "text": [
      "Training Loss: 0.0030 | Train Accuracy: 99.12%\n",
      "\n",
      "| Global Training Round : 17 |\n"
     ]
    },
    {
     "name": "stderr",
     "output_type": "stream",
     "text": [
      "Global Training Rounds:   8%|▊         | 17/200 [02:40<28:06,  9.21s/it]"
     ]
    },
    {
     "name": "stdout",
     "output_type": "stream",
     "text": [
      "Training Loss: 0.0030 | Train Accuracy: 99.14%\n",
      "\n",
      "| Global Training Round : 18 |\n"
     ]
    },
    {
     "name": "stderr",
     "output_type": "stream",
     "text": [
      "Global Training Rounds:   9%|▉         | 18/200 [02:49<27:56,  9.21s/it]"
     ]
    },
    {
     "name": "stdout",
     "output_type": "stream",
     "text": [
      "Training Loss: 0.0025 | Train Accuracy: 99.13%\n",
      "\n",
      "| Global Training Round : 19 |\n"
     ]
    },
    {
     "name": "stderr",
     "output_type": "stream",
     "text": [
      "Global Training Rounds:  10%|▉         | 19/200 [02:59<28:27,  9.43s/it]"
     ]
    },
    {
     "name": "stdout",
     "output_type": "stream",
     "text": [
      "Training Loss: 0.0022 | Train Accuracy: 99.12%\n",
      "\n",
      "| Global Training Round : 20 |\n"
     ]
    },
    {
     "name": "stderr",
     "output_type": "stream",
     "text": [
      "Global Training Rounds:  10%|█         | 20/200 [03:08<28:11,  9.40s/it]"
     ]
    },
    {
     "name": "stdout",
     "output_type": "stream",
     "text": [
      "Training Loss: 0.0023 | Train Accuracy: 99.11%\n",
      "\n",
      "| Global Training Round : 21 |\n"
     ]
    },
    {
     "name": "stderr",
     "output_type": "stream",
     "text": [
      "Global Training Rounds:  10%|█         | 21/200 [03:18<28:09,  9.44s/it]"
     ]
    },
    {
     "name": "stdout",
     "output_type": "stream",
     "text": [
      "Training Loss: 0.0021 | Train Accuracy: 99.14%\n",
      "\n",
      "| Global Training Round : 22 |\n"
     ]
    },
    {
     "name": "stderr",
     "output_type": "stream",
     "text": [
      "Global Training Rounds:  11%|█         | 22/200 [03:27<27:45,  9.36s/it]"
     ]
    },
    {
     "name": "stdout",
     "output_type": "stream",
     "text": [
      "Training Loss: 0.0019 | Train Accuracy: 99.11%\n",
      "\n",
      "| Global Training Round : 23 |\n"
     ]
    },
    {
     "name": "stderr",
     "output_type": "stream",
     "text": [
      "Global Training Rounds:  12%|█▏        | 23/200 [03:36<27:21,  9.27s/it]"
     ]
    },
    {
     "name": "stdout",
     "output_type": "stream",
     "text": [
      "Training Loss: 0.0018 | Train Accuracy: 99.14%\n",
      "\n",
      "| Global Training Round : 24 |\n"
     ]
    },
    {
     "name": "stderr",
     "output_type": "stream",
     "text": [
      "Global Training Rounds:  12%|█▏        | 24/200 [03:45<27:04,  9.23s/it]"
     ]
    },
    {
     "name": "stdout",
     "output_type": "stream",
     "text": [
      "Training Loss: 0.0017 | Train Accuracy: 99.15%\n",
      "\n",
      "| Global Training Round : 25 |\n"
     ]
    },
    {
     "name": "stderr",
     "output_type": "stream",
     "text": [
      "Global Training Rounds:  12%|█▎        | 25/200 [03:54<26:50,  9.20s/it]"
     ]
    },
    {
     "name": "stdout",
     "output_type": "stream",
     "text": [
      "Training Loss: 0.0017 | Train Accuracy: 99.13%\n",
      "\n",
      "| Global Training Round : 26 |\n"
     ]
    },
    {
     "name": "stderr",
     "output_type": "stream",
     "text": [
      "Global Training Rounds:  13%|█▎        | 26/200 [04:04<26:41,  9.21s/it]"
     ]
    },
    {
     "name": "stdout",
     "output_type": "stream",
     "text": [
      "Training Loss: 0.0012 | Train Accuracy: 99.12%\n",
      "\n",
      "| Global Training Round : 27 |\n"
     ]
    },
    {
     "name": "stderr",
     "output_type": "stream",
     "text": [
      "Global Training Rounds:  14%|█▎        | 27/200 [04:13<26:26,  9.17s/it]"
     ]
    },
    {
     "name": "stdout",
     "output_type": "stream",
     "text": [
      "Training Loss: 0.0014 | Train Accuracy: 99.14%\n",
      "\n",
      "| Global Training Round : 28 |\n"
     ]
    },
    {
     "name": "stderr",
     "output_type": "stream",
     "text": [
      "Global Training Rounds:  14%|█▍        | 28/200 [04:22<26:14,  9.16s/it]"
     ]
    },
    {
     "name": "stdout",
     "output_type": "stream",
     "text": [
      "Training Loss: 0.0012 | Train Accuracy: 99.15%\n",
      "\n",
      "| Global Training Round : 29 |\n"
     ]
    },
    {
     "name": "stderr",
     "output_type": "stream",
     "text": [
      "Global Training Rounds:  14%|█▍        | 29/200 [04:31<26:26,  9.28s/it]"
     ]
    },
    {
     "name": "stdout",
     "output_type": "stream",
     "text": [
      "Training Loss: 0.0012 | Train Accuracy: 99.10%\n",
      "\n",
      "| Global Training Round : 30 |\n"
     ]
    },
    {
     "name": "stderr",
     "output_type": "stream",
     "text": [
      "Global Training Rounds:  15%|█▌        | 30/200 [04:41<26:37,  9.39s/it]"
     ]
    },
    {
     "name": "stdout",
     "output_type": "stream",
     "text": [
      "Training Loss: 0.0011 | Train Accuracy: 99.12%\n",
      "\n",
      "| Global Training Round : 31 |\n"
     ]
    },
    {
     "name": "stderr",
     "output_type": "stream",
     "text": [
      "Global Training Rounds:  16%|█▌        | 31/200 [04:50<26:26,  9.39s/it]"
     ]
    },
    {
     "name": "stdout",
     "output_type": "stream",
     "text": [
      "Training Loss: 0.0010 | Train Accuracy: 99.10%\n",
      "\n",
      "| Global Training Round : 32 |\n"
     ]
    },
    {
     "name": "stderr",
     "output_type": "stream",
     "text": [
      "Global Training Rounds:  16%|█▌        | 32/200 [04:59<26:03,  9.30s/it]"
     ]
    },
    {
     "name": "stdout",
     "output_type": "stream",
     "text": [
      "Training Loss: 0.0010 | Train Accuracy: 99.15%\n",
      "\n",
      "| Global Training Round : 33 |\n"
     ]
    },
    {
     "name": "stderr",
     "output_type": "stream",
     "text": [
      "Global Training Rounds:  16%|█▋        | 33/200 [05:09<25:55,  9.31s/it]"
     ]
    },
    {
     "name": "stdout",
     "output_type": "stream",
     "text": [
      "Training Loss: 0.0013 | Train Accuracy: 99.12%\n",
      "\n",
      "| Global Training Round : 34 |\n"
     ]
    },
    {
     "name": "stderr",
     "output_type": "stream",
     "text": [
      "Global Training Rounds:  17%|█▋        | 34/200 [05:18<25:40,  9.28s/it]"
     ]
    },
    {
     "name": "stdout",
     "output_type": "stream",
     "text": [
      "Training Loss: 0.0012 | Train Accuracy: 99.10%\n",
      "\n",
      "| Global Training Round : 35 |\n"
     ]
    },
    {
     "name": "stderr",
     "output_type": "stream",
     "text": [
      "Global Training Rounds:  18%|█▊        | 35/200 [05:27<25:36,  9.31s/it]"
     ]
    },
    {
     "name": "stdout",
     "output_type": "stream",
     "text": [
      "Training Loss: 0.0006 | Train Accuracy: 99.12%\n",
      "\n",
      "| Global Training Round : 36 |\n"
     ]
    },
    {
     "name": "stderr",
     "output_type": "stream",
     "text": [
      "Global Training Rounds:  18%|█▊        | 36/200 [05:37<25:20,  9.27s/it]"
     ]
    },
    {
     "name": "stdout",
     "output_type": "stream",
     "text": [
      "Training Loss: 0.0007 | Train Accuracy: 99.11%\n",
      "\n",
      "| Global Training Round : 37 |\n"
     ]
    },
    {
     "name": "stderr",
     "output_type": "stream",
     "text": [
      "Global Training Rounds:  18%|█▊        | 37/200 [05:46<25:02,  9.22s/it]"
     ]
    },
    {
     "name": "stdout",
     "output_type": "stream",
     "text": [
      "Training Loss: 0.0010 | Train Accuracy: 99.12%\n",
      "\n",
      "| Global Training Round : 38 |\n"
     ]
    },
    {
     "name": "stderr",
     "output_type": "stream",
     "text": [
      "Global Training Rounds:  19%|█▉        | 38/200 [05:55<24:49,  9.20s/it]"
     ]
    },
    {
     "name": "stdout",
     "output_type": "stream",
     "text": [
      "Training Loss: 0.0006 | Train Accuracy: 99.12%\n",
      "\n",
      "| Global Training Round : 39 |\n"
     ]
    },
    {
     "name": "stderr",
     "output_type": "stream",
     "text": [
      "Global Training Rounds:  20%|█▉        | 39/200 [06:04<24:58,  9.31s/it]"
     ]
    },
    {
     "name": "stdout",
     "output_type": "stream",
     "text": [
      "Training Loss: 0.0006 | Train Accuracy: 99.15%\n",
      "\n",
      "| Global Training Round : 40 |\n"
     ]
    },
    {
     "name": "stderr",
     "output_type": "stream",
     "text": [
      "Global Training Rounds:  20%|██        | 40/200 [06:15<25:41,  9.63s/it]"
     ]
    },
    {
     "name": "stdout",
     "output_type": "stream",
     "text": [
      "Training Loss: 0.0008 | Train Accuracy: 99.15%\n",
      "\n",
      "| Global Training Round : 41 |\n"
     ]
    },
    {
     "name": "stderr",
     "output_type": "stream",
     "text": [
      "Global Training Rounds:  20%|██        | 41/200 [06:24<25:10,  9.50s/it]"
     ]
    },
    {
     "name": "stdout",
     "output_type": "stream",
     "text": [
      "Training Loss: 0.0005 | Train Accuracy: 99.10%\n",
      "\n",
      "| Global Training Round : 42 |\n"
     ]
    },
    {
     "name": "stderr",
     "output_type": "stream",
     "text": [
      "Global Training Rounds:  21%|██        | 42/200 [06:33<24:41,  9.38s/it]"
     ]
    },
    {
     "name": "stdout",
     "output_type": "stream",
     "text": [
      "Training Loss: 0.0005 | Train Accuracy: 99.11%\n",
      "\n",
      "| Global Training Round : 43 |\n"
     ]
    },
    {
     "name": "stderr",
     "output_type": "stream",
     "text": [
      "Global Training Rounds:  22%|██▏       | 43/200 [06:42<24:18,  9.29s/it]"
     ]
    },
    {
     "name": "stdout",
     "output_type": "stream",
     "text": [
      "Training Loss: 0.0004 | Train Accuracy: 99.11%\n",
      "\n",
      "| Global Training Round : 44 |\n"
     ]
    },
    {
     "name": "stderr",
     "output_type": "stream",
     "text": [
      "Global Training Rounds:  22%|██▏       | 44/200 [06:51<24:00,  9.23s/it]"
     ]
    },
    {
     "name": "stdout",
     "output_type": "stream",
     "text": [
      "Training Loss: 0.0006 | Train Accuracy: 99.12%\n",
      "\n",
      "| Global Training Round : 45 |\n"
     ]
    },
    {
     "name": "stderr",
     "output_type": "stream",
     "text": [
      "Global Training Rounds:  22%|██▎       | 45/200 [07:00<23:52,  9.24s/it]"
     ]
    },
    {
     "name": "stdout",
     "output_type": "stream",
     "text": [
      "Training Loss: 0.0004 | Train Accuracy: 99.11%\n",
      "\n",
      "| Global Training Round : 46 |\n"
     ]
    },
    {
     "name": "stderr",
     "output_type": "stream",
     "text": [
      "Global Training Rounds:  23%|██▎       | 46/200 [07:10<23:38,  9.21s/it]"
     ]
    },
    {
     "name": "stdout",
     "output_type": "stream",
     "text": [
      "Training Loss: 0.0006 | Train Accuracy: 99.11%\n",
      "\n",
      "| Global Training Round : 47 |\n"
     ]
    },
    {
     "name": "stderr",
     "output_type": "stream",
     "text": [
      "Global Training Rounds:  24%|██▎       | 47/200 [07:19<23:33,  9.24s/it]"
     ]
    },
    {
     "name": "stdout",
     "output_type": "stream",
     "text": [
      "Training Loss: 0.0003 | Train Accuracy: 99.10%\n",
      "\n",
      "| Global Training Round : 48 |\n"
     ]
    },
    {
     "name": "stderr",
     "output_type": "stream",
     "text": [
      "Global Training Rounds:  24%|██▍       | 48/200 [07:28<23:20,  9.21s/it]"
     ]
    },
    {
     "name": "stdout",
     "output_type": "stream",
     "text": [
      "Training Loss: 0.0004 | Train Accuracy: 99.09%\n",
      "\n",
      "| Global Training Round : 49 |\n"
     ]
    },
    {
     "name": "stderr",
     "output_type": "stream",
     "text": [
      "Global Training Rounds:  24%|██▍       | 49/200 [07:39<24:47,  9.85s/it]"
     ]
    },
    {
     "name": "stdout",
     "output_type": "stream",
     "text": [
      "Training Loss: 0.0004 | Train Accuracy: 99.12%\n",
      "\n",
      "| Global Training Round : 50 |\n"
     ]
    },
    {
     "name": "stderr",
     "output_type": "stream",
     "text": [
      "Global Training Rounds:  25%|██▌       | 50/200 [07:49<24:04,  9.63s/it]"
     ]
    },
    {
     "name": "stdout",
     "output_type": "stream",
     "text": [
      "Training Loss: 0.0006 | Train Accuracy: 99.08%\n",
      "\n",
      "| Global Training Round : 51 |\n"
     ]
    },
    {
     "name": "stderr",
     "output_type": "stream",
     "text": [
      "Global Training Rounds:  26%|██▌       | 51/200 [07:58<23:32,  9.48s/it]"
     ]
    },
    {
     "name": "stdout",
     "output_type": "stream",
     "text": [
      "Training Loss: 0.0003 | Train Accuracy: 99.11%\n",
      "\n",
      "| Global Training Round : 52 |\n"
     ]
    },
    {
     "name": "stderr",
     "output_type": "stream",
     "text": [
      "Global Training Rounds:  26%|██▌       | 52/200 [08:07<23:08,  9.38s/it]"
     ]
    },
    {
     "name": "stdout",
     "output_type": "stream",
     "text": [
      "Training Loss: 0.0002 | Train Accuracy: 99.12%\n",
      "\n",
      "| Global Training Round : 53 |\n"
     ]
    },
    {
     "name": "stderr",
     "output_type": "stream",
     "text": [
      "Global Training Rounds:  26%|██▋       | 53/200 [08:16<22:48,  9.31s/it]"
     ]
    },
    {
     "name": "stdout",
     "output_type": "stream",
     "text": [
      "Training Loss: 0.0003 | Train Accuracy: 99.12%\n",
      "\n",
      "| Global Training Round : 54 |\n"
     ]
    },
    {
     "name": "stderr",
     "output_type": "stream",
     "text": [
      "Global Training Rounds:  27%|██▋       | 54/200 [08:25<22:33,  9.27s/it]"
     ]
    },
    {
     "name": "stdout",
     "output_type": "stream",
     "text": [
      "Training Loss: 0.0002 | Train Accuracy: 99.11%\n",
      "\n",
      "| Global Training Round : 55 |\n"
     ]
    },
    {
     "name": "stderr",
     "output_type": "stream",
     "text": [
      "Global Training Rounds:  28%|██▊       | 55/200 [08:34<22:18,  9.23s/it]"
     ]
    },
    {
     "name": "stdout",
     "output_type": "stream",
     "text": [
      "Training Loss: 0.0002 | Train Accuracy: 99.11%\n",
      "\n",
      "| Global Training Round : 56 |\n"
     ]
    },
    {
     "name": "stderr",
     "output_type": "stream",
     "text": [
      "Global Training Rounds:  28%|██▊       | 56/200 [08:43<22:04,  9.20s/it]"
     ]
    },
    {
     "name": "stdout",
     "output_type": "stream",
     "text": [
      "Training Loss: 0.0002 | Train Accuracy: 99.11%\n",
      "\n",
      "| Global Training Round : 57 |\n"
     ]
    },
    {
     "name": "stderr",
     "output_type": "stream",
     "text": [
      "Global Training Rounds:  28%|██▊       | 57/200 [08:53<21:52,  9.18s/it]"
     ]
    },
    {
     "name": "stdout",
     "output_type": "stream",
     "text": [
      "Training Loss: 0.0004 | Train Accuracy: 99.10%\n",
      "\n",
      "| Global Training Round : 58 |\n"
     ]
    },
    {
     "name": "stderr",
     "output_type": "stream",
     "text": [
      "Global Training Rounds:  29%|██▉       | 58/200 [09:02<21:56,  9.27s/it]"
     ]
    },
    {
     "name": "stdout",
     "output_type": "stream",
     "text": [
      "Training Loss: 0.0002 | Train Accuracy: 99.11%\n",
      "\n",
      "| Global Training Round : 59 |\n"
     ]
    },
    {
     "name": "stderr",
     "output_type": "stream",
     "text": [
      "Global Training Rounds:  30%|██▉       | 59/200 [09:12<22:32,  9.59s/it]"
     ]
    },
    {
     "name": "stdout",
     "output_type": "stream",
     "text": [
      "Training Loss: 0.0002 | Train Accuracy: 99.10%\n",
      "\n",
      "| Global Training Round : 60 |\n"
     ]
    },
    {
     "name": "stderr",
     "output_type": "stream",
     "text": [
      "Global Training Rounds:  30%|███       | 60/200 [09:21<22:02,  9.45s/it]"
     ]
    },
    {
     "name": "stdout",
     "output_type": "stream",
     "text": [
      "Training Loss: 0.0001 | Train Accuracy: 99.10%\n",
      "\n",
      "| Global Training Round : 61 |\n"
     ]
    },
    {
     "name": "stderr",
     "output_type": "stream",
     "text": [
      "Global Training Rounds:  30%|███       | 61/200 [09:31<21:43,  9.38s/it]"
     ]
    },
    {
     "name": "stdout",
     "output_type": "stream",
     "text": [
      "Training Loss: 0.0002 | Train Accuracy: 99.09%\n",
      "\n",
      "| Global Training Round : 62 |\n"
     ]
    },
    {
     "name": "stderr",
     "output_type": "stream",
     "text": [
      "Global Training Rounds:  31%|███       | 62/200 [09:40<21:25,  9.31s/it]"
     ]
    },
    {
     "name": "stdout",
     "output_type": "stream",
     "text": [
      "Training Loss: 0.0001 | Train Accuracy: 99.10%\n",
      "\n",
      "| Global Training Round : 63 |\n"
     ]
    },
    {
     "name": "stderr",
     "output_type": "stream",
     "text": [
      "Global Training Rounds:  32%|███▏      | 63/200 [09:49<21:08,  9.26s/it]"
     ]
    },
    {
     "name": "stdout",
     "output_type": "stream",
     "text": [
      "Training Loss: 0.0001 | Train Accuracy: 99.10%\n",
      "\n",
      "| Global Training Round : 64 |\n"
     ]
    },
    {
     "name": "stderr",
     "output_type": "stream",
     "text": [
      "Global Training Rounds:  32%|███▏      | 64/200 [09:58<20:54,  9.23s/it]"
     ]
    },
    {
     "name": "stdout",
     "output_type": "stream",
     "text": [
      "Training Loss: 0.0001 | Train Accuracy: 99.09%\n",
      "\n",
      "| Global Training Round : 65 |\n"
     ]
    },
    {
     "name": "stderr",
     "output_type": "stream",
     "text": [
      "Global Training Rounds:  32%|███▎      | 65/200 [10:08<20:53,  9.29s/it]"
     ]
    },
    {
     "name": "stdout",
     "output_type": "stream",
     "text": [
      "Training Loss: 0.0002 | Train Accuracy: 99.11%\n",
      "\n",
      "| Global Training Round : 66 |\n"
     ]
    },
    {
     "name": "stderr",
     "output_type": "stream",
     "text": [
      "Global Training Rounds:  33%|███▎      | 66/200 [10:17<20:42,  9.27s/it]"
     ]
    },
    {
     "name": "stdout",
     "output_type": "stream",
     "text": [
      "Training Loss: 0.0001 | Train Accuracy: 99.11%\n",
      "\n",
      "| Global Training Round : 67 |\n"
     ]
    },
    {
     "name": "stderr",
     "output_type": "stream",
     "text": [
      "Global Training Rounds:  34%|███▎      | 67/200 [10:26<20:27,  9.23s/it]"
     ]
    },
    {
     "name": "stdout",
     "output_type": "stream",
     "text": [
      "Training Loss: 0.0001 | Train Accuracy: 99.11%\n",
      "\n",
      "| Global Training Round : 68 |\n"
     ]
    },
    {
     "name": "stderr",
     "output_type": "stream",
     "text": [
      "Global Training Rounds:  34%|███▍      | 68/200 [10:37<21:43,  9.88s/it]"
     ]
    },
    {
     "name": "stdout",
     "output_type": "stream",
     "text": [
      "Training Loss: 0.0001 | Train Accuracy: 99.11%\n",
      "\n",
      "| Global Training Round : 69 |\n"
     ]
    },
    {
     "name": "stderr",
     "output_type": "stream",
     "text": [
      "Global Training Rounds:  34%|███▍      | 69/200 [10:46<21:04,  9.65s/it]"
     ]
    },
    {
     "name": "stdout",
     "output_type": "stream",
     "text": [
      "Training Loss: 0.0001 | Train Accuracy: 99.10%\n",
      "\n",
      "| Global Training Round : 70 |\n"
     ]
    },
    {
     "name": "stderr",
     "output_type": "stream",
     "text": [
      "Global Training Rounds:  35%|███▌      | 70/200 [10:56<20:35,  9.50s/it]"
     ]
    },
    {
     "name": "stdout",
     "output_type": "stream",
     "text": [
      "Training Loss: 0.0001 | Train Accuracy: 99.10%\n",
      "\n",
      "| Global Training Round : 71 |\n"
     ]
    },
    {
     "name": "stderr",
     "output_type": "stream",
     "text": [
      "Global Training Rounds:  36%|███▌      | 71/200 [11:05<20:10,  9.38s/it]"
     ]
    },
    {
     "name": "stdout",
     "output_type": "stream",
     "text": [
      "Training Loss: 0.0001 | Train Accuracy: 99.11%\n",
      "\n",
      "| Global Training Round : 72 |\n"
     ]
    },
    {
     "name": "stderr",
     "output_type": "stream",
     "text": [
      "Global Training Rounds:  36%|███▌      | 72/200 [11:14<19:55,  9.34s/it]"
     ]
    },
    {
     "name": "stdout",
     "output_type": "stream",
     "text": [
      "Training Loss: 0.0001 | Train Accuracy: 99.10%\n",
      "\n",
      "| Global Training Round : 73 |\n"
     ]
    },
    {
     "name": "stderr",
     "output_type": "stream",
     "text": [
      "Global Training Rounds:  36%|███▋      | 73/200 [11:23<19:39,  9.29s/it]"
     ]
    },
    {
     "name": "stdout",
     "output_type": "stream",
     "text": [
      "Training Loss: 0.0001 | Train Accuracy: 99.11%\n",
      "\n",
      "| Global Training Round : 74 |\n"
     ]
    },
    {
     "name": "stderr",
     "output_type": "stream",
     "text": [
      "Global Training Rounds:  37%|███▋      | 74/200 [11:32<19:27,  9.27s/it]"
     ]
    },
    {
     "name": "stdout",
     "output_type": "stream",
     "text": [
      "Training Loss: 0.0001 | Train Accuracy: 99.10%\n",
      "\n",
      "| Global Training Round : 75 |\n"
     ]
    },
    {
     "name": "stderr",
     "output_type": "stream",
     "text": [
      "Global Training Rounds:  38%|███▊      | 75/200 [11:41<19:12,  9.22s/it]"
     ]
    },
    {
     "name": "stdout",
     "output_type": "stream",
     "text": [
      "Training Loss: 0.0001 | Train Accuracy: 99.10%\n",
      "\n",
      "| Global Training Round : 76 |\n"
     ]
    },
    {
     "name": "stderr",
     "output_type": "stream",
     "text": [
      "Global Training Rounds:  38%|███▊      | 76/200 [11:51<19:05,  9.23s/it]"
     ]
    },
    {
     "name": "stdout",
     "output_type": "stream",
     "text": [
      "Training Loss: 0.0001 | Train Accuracy: 99.11%\n",
      "\n",
      "| Global Training Round : 77 |\n"
     ]
    },
    {
     "name": "stderr",
     "output_type": "stream",
     "text": [
      "Global Training Rounds:  38%|███▊      | 77/200 [12:01<19:20,  9.44s/it]"
     ]
    },
    {
     "name": "stdout",
     "output_type": "stream",
     "text": [
      "Training Loss: 0.0001 | Train Accuracy: 99.10%\n",
      "\n",
      "| Global Training Round : 78 |\n"
     ]
    },
    {
     "name": "stderr",
     "output_type": "stream",
     "text": [
      "Global Training Rounds:  39%|███▉      | 78/200 [12:11<19:44,  9.71s/it]"
     ]
    },
    {
     "name": "stdout",
     "output_type": "stream",
     "text": [
      "Training Loss: 0.0001 | Train Accuracy: 99.10%\n",
      "\n",
      "| Global Training Round : 79 |\n"
     ]
    },
    {
     "name": "stderr",
     "output_type": "stream",
     "text": [
      "Global Training Rounds:  40%|███▉      | 79/200 [12:20<19:16,  9.55s/it]"
     ]
    },
    {
     "name": "stdout",
     "output_type": "stream",
     "text": [
      "Training Loss: 0.0001 | Train Accuracy: 99.10%\n",
      "\n",
      "| Global Training Round : 80 |\n"
     ]
    },
    {
     "name": "stderr",
     "output_type": "stream",
     "text": [
      "Global Training Rounds:  40%|████      | 80/200 [12:29<18:50,  9.42s/it]"
     ]
    },
    {
     "name": "stdout",
     "output_type": "stream",
     "text": [
      "Training Loss: 0.0001 | Train Accuracy: 99.10%\n",
      "\n",
      "| Global Training Round : 81 |\n"
     ]
    },
    {
     "name": "stderr",
     "output_type": "stream",
     "text": [
      "Global Training Rounds:  40%|████      | 81/200 [12:39<18:38,  9.40s/it]"
     ]
    },
    {
     "name": "stdout",
     "output_type": "stream",
     "text": [
      "Training Loss: 0.0001 | Train Accuracy: 99.10%\n",
      "\n",
      "| Global Training Round : 82 |\n"
     ]
    },
    {
     "name": "stderr",
     "output_type": "stream",
     "text": [
      "Global Training Rounds:  41%|████      | 82/200 [12:48<18:26,  9.38s/it]"
     ]
    },
    {
     "name": "stdout",
     "output_type": "stream",
     "text": [
      "Training Loss: 0.0001 | Train Accuracy: 99.10%\n",
      "\n",
      "| Global Training Round : 83 |\n"
     ]
    },
    {
     "name": "stderr",
     "output_type": "stream",
     "text": [
      "Global Training Rounds:  42%|████▏     | 83/200 [12:57<18:19,  9.40s/it]"
     ]
    },
    {
     "name": "stdout",
     "output_type": "stream",
     "text": [
      "Training Loss: 0.0001 | Train Accuracy: 99.10%\n",
      "\n",
      "| Global Training Round : 84 |\n"
     ]
    },
    {
     "name": "stderr",
     "output_type": "stream",
     "text": [
      "Global Training Rounds:  42%|████▏     | 84/200 [13:06<18:00,  9.32s/it]"
     ]
    },
    {
     "name": "stdout",
     "output_type": "stream",
     "text": [
      "Training Loss: 0.0001 | Train Accuracy: 99.10%\n",
      "\n",
      "| Global Training Round : 85 |\n"
     ]
    },
    {
     "name": "stderr",
     "output_type": "stream",
     "text": [
      "Global Training Rounds:  42%|████▎     | 85/200 [13:16<17:45,  9.27s/it]"
     ]
    },
    {
     "name": "stdout",
     "output_type": "stream",
     "text": [
      "Training Loss: 0.0001 | Train Accuracy: 99.10%\n",
      "\n",
      "| Global Training Round : 86 |\n"
     ]
    },
    {
     "name": "stderr",
     "output_type": "stream",
     "text": [
      "Global Training Rounds:  43%|████▎     | 86/200 [13:25<17:45,  9.35s/it]"
     ]
    },
    {
     "name": "stdout",
     "output_type": "stream",
     "text": [
      "Training Loss: 0.0001 | Train Accuracy: 99.10%\n",
      "\n",
      "| Global Training Round : 87 |\n"
     ]
    },
    {
     "name": "stderr",
     "output_type": "stream",
     "text": [
      "Global Training Rounds:  44%|████▎     | 87/200 [13:35<17:45,  9.43s/it]"
     ]
    },
    {
     "name": "stdout",
     "output_type": "stream",
     "text": [
      "Training Loss: 0.0001 | Train Accuracy: 99.10%\n",
      "\n",
      "| Global Training Round : 88 |\n"
     ]
    },
    {
     "name": "stderr",
     "output_type": "stream",
     "text": [
      "Global Training Rounds:  44%|████▍     | 88/200 [13:44<17:34,  9.42s/it]"
     ]
    },
    {
     "name": "stdout",
     "output_type": "stream",
     "text": [
      "Training Loss: 0.0001 | Train Accuracy: 99.10%\n",
      "\n",
      "| Global Training Round : 89 |\n"
     ]
    },
    {
     "name": "stderr",
     "output_type": "stream",
     "text": [
      "Global Training Rounds:  44%|████▍     | 89/200 [13:53<17:15,  9.33s/it]"
     ]
    },
    {
     "name": "stdout",
     "output_type": "stream",
     "text": [
      "Training Loss: 0.0001 | Train Accuracy: 99.10%\n",
      "\n",
      "| Global Training Round : 90 |\n"
     ]
    },
    {
     "name": "stderr",
     "output_type": "stream",
     "text": [
      "Global Training Rounds:  45%|████▌     | 90/200 [14:02<16:58,  9.26s/it]"
     ]
    },
    {
     "name": "stdout",
     "output_type": "stream",
     "text": [
      "Training Loss: 0.0001 | Train Accuracy: 99.10%\n",
      "\n",
      "| Global Training Round : 91 |\n"
     ]
    },
    {
     "name": "stderr",
     "output_type": "stream",
     "text": [
      "Global Training Rounds:  46%|████▌     | 91/200 [14:12<16:45,  9.23s/it]"
     ]
    },
    {
     "name": "stdout",
     "output_type": "stream",
     "text": [
      "Training Loss: 0.0001 | Train Accuracy: 99.10%\n",
      "\n",
      "| Global Training Round : 92 |\n"
     ]
    },
    {
     "name": "stderr",
     "output_type": "stream",
     "text": [
      "Global Training Rounds:  46%|████▌     | 92/200 [14:21<16:38,  9.25s/it]"
     ]
    },
    {
     "name": "stdout",
     "output_type": "stream",
     "text": [
      "Training Loss: 0.0001 | Train Accuracy: 99.10%\n",
      "\n",
      "| Global Training Round : 93 |\n"
     ]
    },
    {
     "name": "stderr",
     "output_type": "stream",
     "text": [
      "Global Training Rounds:  46%|████▋     | 93/200 [14:30<16:31,  9.26s/it]"
     ]
    },
    {
     "name": "stdout",
     "output_type": "stream",
     "text": [
      "Training Loss: 0.0001 | Train Accuracy: 99.10%\n",
      "\n",
      "| Global Training Round : 94 |\n"
     ]
    },
    {
     "name": "stderr",
     "output_type": "stream",
     "text": [
      "Global Training Rounds:  47%|████▋     | 94/200 [14:39<16:19,  9.24s/it]"
     ]
    },
    {
     "name": "stdout",
     "output_type": "stream",
     "text": [
      "Training Loss: 0.0001 | Train Accuracy: 99.10%\n",
      "\n",
      "| Global Training Round : 95 |\n"
     ]
    },
    {
     "name": "stderr",
     "output_type": "stream",
     "text": [
      "Global Training Rounds:  48%|████▊     | 95/200 [14:49<16:09,  9.24s/it]"
     ]
    },
    {
     "name": "stdout",
     "output_type": "stream",
     "text": [
      "Training Loss: 0.0001 | Train Accuracy: 99.10%\n",
      "\n",
      "| Global Training Round : 96 |\n"
     ]
    },
    {
     "name": "stderr",
     "output_type": "stream",
     "text": [
      "Global Training Rounds:  48%|████▊     | 96/200 [15:00<17:14,  9.95s/it]"
     ]
    },
    {
     "name": "stdout",
     "output_type": "stream",
     "text": [
      "Training Loss: 0.0001 | Train Accuracy: 99.10%\n",
      "\n",
      "| Global Training Round : 97 |\n"
     ]
    },
    {
     "name": "stderr",
     "output_type": "stream",
     "text": [
      "Global Training Rounds:  48%|████▊     | 97/200 [15:10<16:55,  9.86s/it]"
     ]
    },
    {
     "name": "stdout",
     "output_type": "stream",
     "text": [
      "Training Loss: 0.0001 | Train Accuracy: 99.10%\n",
      "\n",
      "| Global Training Round : 98 |\n"
     ]
    },
    {
     "name": "stderr",
     "output_type": "stream",
     "text": [
      "Global Training Rounds:  49%|████▉     | 98/200 [15:19<16:22,  9.63s/it]"
     ]
    },
    {
     "name": "stdout",
     "output_type": "stream",
     "text": [
      "Training Loss: 0.0001 | Train Accuracy: 99.10%\n",
      "\n",
      "| Global Training Round : 99 |\n"
     ]
    },
    {
     "name": "stderr",
     "output_type": "stream",
     "text": [
      "Global Training Rounds:  50%|████▉     | 99/200 [15:28<16:00,  9.51s/it]"
     ]
    },
    {
     "name": "stdout",
     "output_type": "stream",
     "text": [
      "Training Loss: 0.0001 | Train Accuracy: 99.10%\n",
      "\n",
      "| Global Training Round : 100 |\n"
     ]
    },
    {
     "name": "stderr",
     "output_type": "stream",
     "text": [
      "Global Training Rounds:  50%|█████     | 100/200 [15:37<15:41,  9.41s/it]"
     ]
    },
    {
     "name": "stdout",
     "output_type": "stream",
     "text": [
      "Training Loss: 0.0001 | Train Accuracy: 99.10%\n",
      "\n",
      "| Global Training Round : 101 |\n"
     ]
    },
    {
     "name": "stderr",
     "output_type": "stream",
     "text": [
      "Global Training Rounds:  50%|█████     | 101/200 [15:46<15:22,  9.32s/it]"
     ]
    },
    {
     "name": "stdout",
     "output_type": "stream",
     "text": [
      "Training Loss: 0.0001 | Train Accuracy: 99.10%\n",
      "\n",
      "| Global Training Round : 102 |\n"
     ]
    },
    {
     "name": "stderr",
     "output_type": "stream",
     "text": [
      "Global Training Rounds:  51%|█████     | 102/200 [15:56<15:09,  9.28s/it]"
     ]
    },
    {
     "name": "stdout",
     "output_type": "stream",
     "text": [
      "Training Loss: 0.0000 | Train Accuracy: 99.10%\n",
      "\n",
      "| Global Training Round : 103 |\n"
     ]
    },
    {
     "name": "stderr",
     "output_type": "stream",
     "text": [
      "Global Training Rounds:  52%|█████▏    | 103/200 [16:05<14:56,  9.24s/it]"
     ]
    },
    {
     "name": "stdout",
     "output_type": "stream",
     "text": [
      "Training Loss: 0.0000 | Train Accuracy: 99.10%\n",
      "\n",
      "| Global Training Round : 104 |\n"
     ]
    },
    {
     "name": "stderr",
     "output_type": "stream",
     "text": [
      "Global Training Rounds:  52%|█████▏    | 104/200 [16:14<14:45,  9.22s/it]"
     ]
    },
    {
     "name": "stdout",
     "output_type": "stream",
     "text": [
      "Training Loss: 0.0000 | Train Accuracy: 99.10%\n",
      "\n",
      "| Global Training Round : 105 |\n"
     ]
    },
    {
     "name": "stderr",
     "output_type": "stream",
     "text": [
      "Global Training Rounds:  52%|█████▎    | 105/200 [16:23<14:38,  9.24s/it]"
     ]
    },
    {
     "name": "stdout",
     "output_type": "stream",
     "text": [
      "Training Loss: 0.0000 | Train Accuracy: 99.10%\n",
      "\n",
      "| Global Training Round : 106 |\n"
     ]
    },
    {
     "name": "stderr",
     "output_type": "stream",
     "text": [
      "Global Training Rounds:  53%|█████▎    | 106/200 [16:33<14:34,  9.31s/it]"
     ]
    },
    {
     "name": "stdout",
     "output_type": "stream",
     "text": [
      "Training Loss: 0.0000 | Train Accuracy: 99.10%\n",
      "\n",
      "| Global Training Round : 107 |\n"
     ]
    },
    {
     "name": "stderr",
     "output_type": "stream",
     "text": [
      "Global Training Rounds:  54%|█████▎    | 107/200 [16:42<14:31,  9.38s/it]"
     ]
    },
    {
     "name": "stdout",
     "output_type": "stream",
     "text": [
      "Training Loss: 0.0000 | Train Accuracy: 99.10%\n",
      "\n",
      "| Global Training Round : 108 |\n"
     ]
    },
    {
     "name": "stderr",
     "output_type": "stream",
     "text": [
      "Global Training Rounds:  54%|█████▍    | 108/200 [16:51<14:18,  9.33s/it]"
     ]
    },
    {
     "name": "stdout",
     "output_type": "stream",
     "text": [
      "Training Loss: 0.0000 | Train Accuracy: 99.10%\n",
      "\n",
      "| Global Training Round : 109 |\n"
     ]
    },
    {
     "name": "stderr",
     "output_type": "stream",
     "text": [
      "Global Training Rounds:  55%|█████▍    | 109/200 [17:01<14:07,  9.31s/it]"
     ]
    },
    {
     "name": "stdout",
     "output_type": "stream",
     "text": [
      "Training Loss: 0.0000 | Train Accuracy: 99.10%\n",
      "\n",
      "| Global Training Round : 110 |\n"
     ]
    },
    {
     "name": "stderr",
     "output_type": "stream",
     "text": [
      "Global Training Rounds:  55%|█████▌    | 110/200 [17:10<13:53,  9.26s/it]"
     ]
    },
    {
     "name": "stdout",
     "output_type": "stream",
     "text": [
      "Training Loss: 0.0000 | Train Accuracy: 99.10%\n",
      "\n",
      "| Global Training Round : 111 |\n"
     ]
    },
    {
     "name": "stderr",
     "output_type": "stream",
     "text": [
      "Global Training Rounds:  56%|█████▌    | 111/200 [17:19<13:43,  9.26s/it]"
     ]
    },
    {
     "name": "stdout",
     "output_type": "stream",
     "text": [
      "Training Loss: 0.0000 | Train Accuracy: 99.10%\n",
      "\n",
      "| Global Training Round : 112 |\n"
     ]
    },
    {
     "name": "stderr",
     "output_type": "stream",
     "text": [
      "Global Training Rounds:  56%|█████▌    | 112/200 [17:28<13:35,  9.26s/it]"
     ]
    },
    {
     "name": "stdout",
     "output_type": "stream",
     "text": [
      "Training Loss: 0.0000 | Train Accuracy: 99.10%\n",
      "\n",
      "| Global Training Round : 113 |\n"
     ]
    },
    {
     "name": "stderr",
     "output_type": "stream",
     "text": [
      "Global Training Rounds:  56%|█████▋    | 113/200 [17:38<13:23,  9.24s/it]"
     ]
    },
    {
     "name": "stdout",
     "output_type": "stream",
     "text": [
      "Training Loss: 0.0000 | Train Accuracy: 99.10%\n",
      "\n",
      "| Global Training Round : 114 |\n"
     ]
    },
    {
     "name": "stderr",
     "output_type": "stream",
     "text": [
      "Global Training Rounds:  57%|█████▋    | 114/200 [17:47<13:11,  9.20s/it]"
     ]
    },
    {
     "name": "stdout",
     "output_type": "stream",
     "text": [
      "Training Loss: 0.0000 | Train Accuracy: 99.10%\n",
      "\n",
      "| Global Training Round : 115 |\n"
     ]
    },
    {
     "name": "stderr",
     "output_type": "stream",
     "text": [
      "Global Training Rounds:  57%|█████▊    | 115/200 [17:56<13:02,  9.21s/it]"
     ]
    },
    {
     "name": "stdout",
     "output_type": "stream",
     "text": [
      "Training Loss: 0.0000 | Train Accuracy: 99.10%\n",
      "\n",
      "| Global Training Round : 116 |\n"
     ]
    },
    {
     "name": "stderr",
     "output_type": "stream",
     "text": [
      "Global Training Rounds:  58%|█████▊    | 116/200 [18:05<13:00,  9.30s/it]"
     ]
    },
    {
     "name": "stdout",
     "output_type": "stream",
     "text": [
      "Training Loss: 0.0000 | Train Accuracy: 99.10%\n",
      "\n",
      "| Global Training Round : 117 |\n"
     ]
    },
    {
     "name": "stderr",
     "output_type": "stream",
     "text": [
      "Global Training Rounds:  58%|█████▊    | 117/200 [18:15<12:56,  9.36s/it]"
     ]
    },
    {
     "name": "stdout",
     "output_type": "stream",
     "text": [
      "Training Loss: 0.0000 | Train Accuracy: 99.10%\n",
      "\n",
      "| Global Training Round : 118 |\n"
     ]
    },
    {
     "name": "stderr",
     "output_type": "stream",
     "text": [
      "Global Training Rounds:  59%|█████▉    | 118/200 [18:24<12:43,  9.31s/it]"
     ]
    },
    {
     "name": "stdout",
     "output_type": "stream",
     "text": [
      "Training Loss: 0.0000 | Train Accuracy: 99.10%\n",
      "\n",
      "| Global Training Round : 119 |\n"
     ]
    },
    {
     "name": "stderr",
     "output_type": "stream",
     "text": [
      "Global Training Rounds:  60%|█████▉    | 119/200 [18:33<12:30,  9.26s/it]"
     ]
    },
    {
     "name": "stdout",
     "output_type": "stream",
     "text": [
      "Training Loss: 0.0000 | Train Accuracy: 99.10%\n",
      "\n",
      "| Global Training Round : 120 |\n"
     ]
    },
    {
     "name": "stderr",
     "output_type": "stream",
     "text": [
      "Global Training Rounds:  60%|██████    | 120/200 [18:42<12:19,  9.24s/it]"
     ]
    },
    {
     "name": "stdout",
     "output_type": "stream",
     "text": [
      "Training Loss: 0.0000 | Train Accuracy: 99.10%\n",
      "\n",
      "| Global Training Round : 121 |\n"
     ]
    },
    {
     "name": "stderr",
     "output_type": "stream",
     "text": [
      "Global Training Rounds:  60%|██████    | 121/200 [18:52<12:07,  9.21s/it]"
     ]
    },
    {
     "name": "stdout",
     "output_type": "stream",
     "text": [
      "Training Loss: 0.0000 | Train Accuracy: 99.10%\n",
      "\n",
      "| Global Training Round : 122 |\n"
     ]
    },
    {
     "name": "stderr",
     "output_type": "stream",
     "text": [
      "Global Training Rounds:  61%|██████    | 122/200 [19:01<11:59,  9.22s/it]"
     ]
    },
    {
     "name": "stdout",
     "output_type": "stream",
     "text": [
      "Training Loss: 0.0000 | Train Accuracy: 99.10%\n",
      "\n",
      "| Global Training Round : 123 |\n"
     ]
    },
    {
     "name": "stderr",
     "output_type": "stream",
     "text": [
      "Global Training Rounds:  62%|██████▏   | 123/200 [19:10<11:49,  9.21s/it]"
     ]
    },
    {
     "name": "stdout",
     "output_type": "stream",
     "text": [
      "Training Loss: 0.0000 | Train Accuracy: 99.10%\n",
      "\n",
      "| Global Training Round : 124 |\n"
     ]
    },
    {
     "name": "stderr",
     "output_type": "stream",
     "text": [
      "Global Training Rounds:  62%|██████▏   | 124/200 [19:19<11:41,  9.23s/it]"
     ]
    },
    {
     "name": "stdout",
     "output_type": "stream",
     "text": [
      "Training Loss: 0.0000 | Train Accuracy: 99.10%\n",
      "\n",
      "| Global Training Round : 125 |\n"
     ]
    },
    {
     "name": "stderr",
     "output_type": "stream",
     "text": [
      "Global Training Rounds:  62%|██████▎   | 125/200 [19:30<11:57,  9.56s/it]"
     ]
    },
    {
     "name": "stdout",
     "output_type": "stream",
     "text": [
      "Training Loss: 0.0000 | Train Accuracy: 99.10%\n",
      "\n",
      "| Global Training Round : 126 |\n"
     ]
    },
    {
     "name": "stderr",
     "output_type": "stream",
     "text": [
      "Global Training Rounds:  63%|██████▎   | 126/200 [19:39<11:47,  9.56s/it]"
     ]
    },
    {
     "name": "stdout",
     "output_type": "stream",
     "text": [
      "Training Loss: 0.0000 | Train Accuracy: 99.10%\n",
      "\n",
      "| Global Training Round : 127 |\n"
     ]
    },
    {
     "name": "stderr",
     "output_type": "stream",
     "text": [
      "Global Training Rounds:  64%|██████▎   | 127/200 [19:49<11:33,  9.50s/it]"
     ]
    },
    {
     "name": "stdout",
     "output_type": "stream",
     "text": [
      "Training Loss: 0.0000 | Train Accuracy: 99.10%\n",
      "\n",
      "| Global Training Round : 128 |\n"
     ]
    },
    {
     "name": "stderr",
     "output_type": "stream",
     "text": [
      "Global Training Rounds:  64%|██████▍   | 128/200 [19:58<11:22,  9.48s/it]"
     ]
    },
    {
     "name": "stdout",
     "output_type": "stream",
     "text": [
      "Training Loss: 0.0000 | Train Accuracy: 99.10%\n",
      "\n",
      "| Global Training Round : 129 |\n"
     ]
    },
    {
     "name": "stderr",
     "output_type": "stream",
     "text": [
      "Global Training Rounds:  64%|██████▍   | 129/200 [20:07<11:10,  9.44s/it]"
     ]
    },
    {
     "name": "stdout",
     "output_type": "stream",
     "text": [
      "Training Loss: 0.0000 | Train Accuracy: 99.10%\n",
      "\n",
      "| Global Training Round : 130 |\n"
     ]
    },
    {
     "name": "stderr",
     "output_type": "stream",
     "text": [
      "Global Training Rounds:  65%|██████▌   | 130/200 [20:17<10:56,  9.37s/it]"
     ]
    },
    {
     "name": "stdout",
     "output_type": "stream",
     "text": [
      "Training Loss: 0.0000 | Train Accuracy: 99.10%\n",
      "\n",
      "| Global Training Round : 131 |\n"
     ]
    },
    {
     "name": "stderr",
     "output_type": "stream",
     "text": [
      "Global Training Rounds:  66%|██████▌   | 131/200 [20:26<10:43,  9.32s/it]"
     ]
    },
    {
     "name": "stdout",
     "output_type": "stream",
     "text": [
      "Training Loss: 0.0000 | Train Accuracy: 99.10%\n",
      "\n",
      "| Global Training Round : 132 |\n"
     ]
    },
    {
     "name": "stderr",
     "output_type": "stream",
     "text": [
      "Global Training Rounds:  66%|██████▌   | 132/200 [20:35<10:31,  9.29s/it]"
     ]
    },
    {
     "name": "stdout",
     "output_type": "stream",
     "text": [
      "Training Loss: 0.0000 | Train Accuracy: 99.10%\n",
      "\n",
      "| Global Training Round : 133 |\n"
     ]
    },
    {
     "name": "stderr",
     "output_type": "stream",
     "text": [
      "Global Training Rounds:  66%|██████▋   | 133/200 [20:44<10:19,  9.25s/it]"
     ]
    },
    {
     "name": "stdout",
     "output_type": "stream",
     "text": [
      "Training Loss: 0.0000 | Train Accuracy: 99.10%\n",
      "\n",
      "| Global Training Round : 134 |\n"
     ]
    },
    {
     "name": "stderr",
     "output_type": "stream",
     "text": [
      "Global Training Rounds:  67%|██████▋   | 134/200 [20:53<10:08,  9.21s/it]"
     ]
    },
    {
     "name": "stdout",
     "output_type": "stream",
     "text": [
      "Training Loss: 0.0000 | Train Accuracy: 99.10%\n",
      "\n",
      "| Global Training Round : 135 |\n"
     ]
    },
    {
     "name": "stderr",
     "output_type": "stream",
     "text": [
      "Global Training Rounds:  68%|██████▊   | 135/200 [21:03<10:18,  9.51s/it]"
     ]
    },
    {
     "name": "stdout",
     "output_type": "stream",
     "text": [
      "Training Loss: 0.0000 | Train Accuracy: 99.10%\n",
      "\n",
      "| Global Training Round : 136 |\n"
     ]
    },
    {
     "name": "stderr",
     "output_type": "stream",
     "text": [
      "Global Training Rounds:  68%|██████▊   | 136/200 [21:13<10:11,  9.56s/it]"
     ]
    },
    {
     "name": "stdout",
     "output_type": "stream",
     "text": [
      "Training Loss: 0.0000 | Train Accuracy: 99.10%\n",
      "\n",
      "| Global Training Round : 137 |\n"
     ]
    },
    {
     "name": "stderr",
     "output_type": "stream",
     "text": [
      "Global Training Rounds:  68%|██████▊   | 137/200 [21:22<09:55,  9.45s/it]"
     ]
    },
    {
     "name": "stdout",
     "output_type": "stream",
     "text": [
      "Training Loss: 0.0000 | Train Accuracy: 99.10%\n",
      "\n",
      "| Global Training Round : 138 |\n"
     ]
    },
    {
     "name": "stderr",
     "output_type": "stream",
     "text": [
      "Global Training Rounds:  69%|██████▉   | 138/200 [21:31<09:39,  9.35s/it]"
     ]
    },
    {
     "name": "stdout",
     "output_type": "stream",
     "text": [
      "Training Loss: 0.0000 | Train Accuracy: 99.09%\n",
      "\n",
      "| Global Training Round : 139 |\n"
     ]
    },
    {
     "name": "stderr",
     "output_type": "stream",
     "text": [
      "Global Training Rounds:  70%|██████▉   | 139/200 [21:41<09:29,  9.34s/it]"
     ]
    },
    {
     "name": "stdout",
     "output_type": "stream",
     "text": [
      "Training Loss: 0.0000 | Train Accuracy: 99.09%\n",
      "\n",
      "| Global Training Round : 140 |\n"
     ]
    },
    {
     "name": "stderr",
     "output_type": "stream",
     "text": [
      "Global Training Rounds:  70%|███████   | 140/200 [21:50<09:20,  9.34s/it]"
     ]
    },
    {
     "name": "stdout",
     "output_type": "stream",
     "text": [
      "Training Loss: 0.0000 | Train Accuracy: 99.09%\n",
      "\n",
      "| Global Training Round : 141 |\n"
     ]
    },
    {
     "name": "stderr",
     "output_type": "stream",
     "text": [
      "Global Training Rounds:  70%|███████   | 141/200 [21:59<09:11,  9.34s/it]"
     ]
    },
    {
     "name": "stdout",
     "output_type": "stream",
     "text": [
      "Training Loss: 0.0000 | Train Accuracy: 99.09%\n",
      "\n",
      "| Global Training Round : 142 |\n"
     ]
    },
    {
     "name": "stderr",
     "output_type": "stream",
     "text": [
      "Global Training Rounds:  71%|███████   | 142/200 [22:09<09:02,  9.35s/it]"
     ]
    },
    {
     "name": "stdout",
     "output_type": "stream",
     "text": [
      "Training Loss: 0.0000 | Train Accuracy: 99.09%\n",
      "\n",
      "| Global Training Round : 143 |\n"
     ]
    },
    {
     "name": "stderr",
     "output_type": "stream",
     "text": [
      "Global Training Rounds:  72%|███████▏  | 143/200 [22:18<08:52,  9.35s/it]"
     ]
    },
    {
     "name": "stdout",
     "output_type": "stream",
     "text": [
      "Training Loss: 0.0000 | Train Accuracy: 99.09%\n",
      "\n",
      "| Global Training Round : 144 |\n"
     ]
    },
    {
     "name": "stderr",
     "output_type": "stream",
     "text": [
      "Global Training Rounds:  72%|███████▏  | 144/200 [22:29<09:06,  9.75s/it]"
     ]
    },
    {
     "name": "stdout",
     "output_type": "stream",
     "text": [
      "Training Loss: 0.0000 | Train Accuracy: 99.09%\n",
      "\n",
      "| Global Training Round : 145 |\n"
     ]
    },
    {
     "name": "stderr",
     "output_type": "stream",
     "text": [
      "Global Training Rounds:  72%|███████▎  | 145/200 [22:39<08:59,  9.81s/it]"
     ]
    },
    {
     "name": "stdout",
     "output_type": "stream",
     "text": [
      "Training Loss: 0.0000 | Train Accuracy: 99.09%\n",
      "\n",
      "| Global Training Round : 146 |\n"
     ]
    },
    {
     "name": "stderr",
     "output_type": "stream",
     "text": [
      "Global Training Rounds:  73%|███████▎  | 146/200 [22:48<08:41,  9.66s/it]"
     ]
    },
    {
     "name": "stdout",
     "output_type": "stream",
     "text": [
      "Training Loss: 0.0000 | Train Accuracy: 99.09%\n",
      "\n",
      "| Global Training Round : 147 |\n"
     ]
    },
    {
     "name": "stderr",
     "output_type": "stream",
     "text": [
      "Global Training Rounds:  74%|███████▎  | 147/200 [22:57<08:23,  9.49s/it]"
     ]
    },
    {
     "name": "stdout",
     "output_type": "stream",
     "text": [
      "Training Loss: 0.0000 | Train Accuracy: 99.09%\n",
      "\n",
      "| Global Training Round : 148 |\n"
     ]
    },
    {
     "name": "stderr",
     "output_type": "stream",
     "text": [
      "Global Training Rounds:  74%|███████▍  | 148/200 [23:06<08:08,  9.39s/it]"
     ]
    },
    {
     "name": "stdout",
     "output_type": "stream",
     "text": [
      "Training Loss: 0.0000 | Train Accuracy: 99.09%\n",
      "\n",
      "| Global Training Round : 149 |\n"
     ]
    },
    {
     "name": "stderr",
     "output_type": "stream",
     "text": [
      "Global Training Rounds:  74%|███████▍  | 149/200 [23:16<07:55,  9.33s/it]"
     ]
    },
    {
     "name": "stdout",
     "output_type": "stream",
     "text": [
      "Training Loss: 0.0000 | Train Accuracy: 99.09%\n",
      "\n",
      "| Global Training Round : 150 |\n"
     ]
    },
    {
     "name": "stderr",
     "output_type": "stream",
     "text": [
      "Global Training Rounds:  75%|███████▌  | 150/200 [23:25<07:44,  9.29s/it]"
     ]
    },
    {
     "name": "stdout",
     "output_type": "stream",
     "text": [
      "Training Loss: 0.0000 | Train Accuracy: 99.09%\n",
      "\n",
      "| Global Training Round : 151 |\n"
     ]
    },
    {
     "name": "stderr",
     "output_type": "stream",
     "text": [
      "Global Training Rounds:  76%|███████▌  | 151/200 [23:34<07:33,  9.25s/it]"
     ]
    },
    {
     "name": "stdout",
     "output_type": "stream",
     "text": [
      "Training Loss: 0.0000 | Train Accuracy: 99.09%\n",
      "\n",
      "| Global Training Round : 152 |\n"
     ]
    },
    {
     "name": "stderr",
     "output_type": "stream",
     "text": [
      "Global Training Rounds:  76%|███████▌  | 152/200 [23:43<07:21,  9.20s/it]"
     ]
    },
    {
     "name": "stdout",
     "output_type": "stream",
     "text": [
      "Training Loss: 0.0000 | Train Accuracy: 99.09%\n",
      "\n",
      "| Global Training Round : 153 |\n"
     ]
    },
    {
     "name": "stderr",
     "output_type": "stream",
     "text": [
      "Global Training Rounds:  76%|███████▋  | 153/200 [23:53<07:17,  9.31s/it]"
     ]
    },
    {
     "name": "stdout",
     "output_type": "stream",
     "text": [
      "Training Loss: 0.0000 | Train Accuracy: 99.09%\n",
      "\n",
      "| Global Training Round : 154 |\n"
     ]
    },
    {
     "name": "stderr",
     "output_type": "stream",
     "text": [
      "Global Training Rounds:  77%|███████▋  | 154/200 [24:02<07:12,  9.41s/it]"
     ]
    },
    {
     "name": "stdout",
     "output_type": "stream",
     "text": [
      "Training Loss: 0.0000 | Train Accuracy: 99.09%\n",
      "\n",
      "| Global Training Round : 155 |\n"
     ]
    },
    {
     "name": "stderr",
     "output_type": "stream",
     "text": [
      "Global Training Rounds:  78%|███████▊  | 155/200 [24:12<07:04,  9.42s/it]"
     ]
    },
    {
     "name": "stdout",
     "output_type": "stream",
     "text": [
      "Training Loss: 0.0000 | Train Accuracy: 99.09%\n",
      "\n",
      "| Global Training Round : 156 |\n"
     ]
    },
    {
     "name": "stderr",
     "output_type": "stream",
     "text": [
      "Global Training Rounds:  78%|███████▊  | 156/200 [24:21<06:51,  9.35s/it]"
     ]
    },
    {
     "name": "stdout",
     "output_type": "stream",
     "text": [
      "Training Loss: 0.0000 | Train Accuracy: 99.09%\n",
      "\n",
      "| Global Training Round : 157 |\n"
     ]
    },
    {
     "name": "stderr",
     "output_type": "stream",
     "text": [
      "Global Training Rounds:  78%|███████▊  | 157/200 [24:30<06:41,  9.34s/it]"
     ]
    },
    {
     "name": "stdout",
     "output_type": "stream",
     "text": [
      "Training Loss: 0.0000 | Train Accuracy: 99.09%\n",
      "\n",
      "| Global Training Round : 158 |\n"
     ]
    },
    {
     "name": "stderr",
     "output_type": "stream",
     "text": [
      "Global Training Rounds:  79%|███████▉  | 158/200 [24:39<06:30,  9.30s/it]"
     ]
    },
    {
     "name": "stdout",
     "output_type": "stream",
     "text": [
      "Training Loss: 0.0000 | Train Accuracy: 99.09%\n",
      "\n",
      "| Global Training Round : 159 |\n"
     ]
    },
    {
     "name": "stderr",
     "output_type": "stream",
     "text": [
      "Global Training Rounds:  80%|███████▉  | 159/200 [24:49<06:22,  9.33s/it]"
     ]
    },
    {
     "name": "stdout",
     "output_type": "stream",
     "text": [
      "Training Loss: 0.0000 | Train Accuracy: 99.09%\n",
      "\n",
      "| Global Training Round : 160 |\n"
     ]
    },
    {
     "name": "stderr",
     "output_type": "stream",
     "text": [
      "Global Training Rounds:  80%|████████  | 160/200 [24:58<06:13,  9.35s/it]"
     ]
    },
    {
     "name": "stdout",
     "output_type": "stream",
     "text": [
      "Training Loss: 0.0000 | Train Accuracy: 99.09%\n",
      "\n",
      "| Global Training Round : 161 |\n"
     ]
    },
    {
     "name": "stderr",
     "output_type": "stream",
     "text": [
      "Global Training Rounds:  80%|████████  | 161/200 [25:07<06:02,  9.29s/it]"
     ]
    },
    {
     "name": "stdout",
     "output_type": "stream",
     "text": [
      "Training Loss: 0.0000 | Train Accuracy: 99.09%\n",
      "\n",
      "| Global Training Round : 162 |\n"
     ]
    },
    {
     "name": "stderr",
     "output_type": "stream",
     "text": [
      "Global Training Rounds:  81%|████████  | 162/200 [25:16<05:51,  9.25s/it]"
     ]
    },
    {
     "name": "stdout",
     "output_type": "stream",
     "text": [
      "Training Loss: 0.0000 | Train Accuracy: 99.09%\n",
      "\n",
      "| Global Training Round : 163 |\n"
     ]
    },
    {
     "name": "stderr",
     "output_type": "stream",
     "text": [
      "Global Training Rounds:  82%|████████▏ | 163/200 [25:28<06:02,  9.80s/it]"
     ]
    },
    {
     "name": "stdout",
     "output_type": "stream",
     "text": [
      "Training Loss: 0.0000 | Train Accuracy: 99.09%\n",
      "\n",
      "| Global Training Round : 164 |\n"
     ]
    },
    {
     "name": "stderr",
     "output_type": "stream",
     "text": [
      "Global Training Rounds:  82%|████████▏ | 164/200 [25:37<05:47,  9.65s/it]"
     ]
    },
    {
     "name": "stdout",
     "output_type": "stream",
     "text": [
      "Training Loss: 0.0000 | Train Accuracy: 99.09%\n",
      "\n",
      "| Global Training Round : 165 |\n"
     ]
    },
    {
     "name": "stderr",
     "output_type": "stream",
     "text": [
      "Global Training Rounds:  82%|████████▎ | 165/200 [25:46<05:32,  9.50s/it]"
     ]
    },
    {
     "name": "stdout",
     "output_type": "stream",
     "text": [
      "Training Loss: 0.0000 | Train Accuracy: 99.09%\n",
      "\n",
      "| Global Training Round : 166 |\n"
     ]
    },
    {
     "name": "stderr",
     "output_type": "stream",
     "text": [
      "Global Training Rounds:  83%|████████▎ | 166/200 [25:55<05:20,  9.42s/it]"
     ]
    },
    {
     "name": "stdout",
     "output_type": "stream",
     "text": [
      "Training Loss: 0.0000 | Train Accuracy: 99.09%\n",
      "\n",
      "| Global Training Round : 167 |\n"
     ]
    },
    {
     "name": "stderr",
     "output_type": "stream",
     "text": [
      "Global Training Rounds:  84%|████████▎ | 167/200 [26:04<05:09,  9.37s/it]"
     ]
    },
    {
     "name": "stdout",
     "output_type": "stream",
     "text": [
      "Training Loss: 0.0000 | Train Accuracy: 99.09%\n",
      "\n",
      "| Global Training Round : 168 |\n"
     ]
    },
    {
     "name": "stderr",
     "output_type": "stream",
     "text": [
      "Global Training Rounds:  84%|████████▍ | 168/200 [26:14<04:57,  9.30s/it]"
     ]
    },
    {
     "name": "stdout",
     "output_type": "stream",
     "text": [
      "Training Loss: 0.0000 | Train Accuracy: 99.09%\n",
      "\n",
      "| Global Training Round : 169 |\n"
     ]
    },
    {
     "name": "stderr",
     "output_type": "stream",
     "text": [
      "Global Training Rounds:  84%|████████▍ | 169/200 [26:23<04:47,  9.27s/it]"
     ]
    },
    {
     "name": "stdout",
     "output_type": "stream",
     "text": [
      "Training Loss: 0.0000 | Train Accuracy: 99.09%\n",
      "\n",
      "| Global Training Round : 170 |\n"
     ]
    },
    {
     "name": "stderr",
     "output_type": "stream",
     "text": [
      "Global Training Rounds:  85%|████████▌ | 170/200 [26:32<04:36,  9.23s/it]"
     ]
    },
    {
     "name": "stdout",
     "output_type": "stream",
     "text": [
      "Training Loss: 0.0000 | Train Accuracy: 99.09%\n",
      "\n",
      "| Global Training Round : 171 |\n"
     ]
    },
    {
     "name": "stderr",
     "output_type": "stream",
     "text": [
      "Global Training Rounds:  86%|████████▌ | 171/200 [26:41<04:26,  9.20s/it]"
     ]
    },
    {
     "name": "stdout",
     "output_type": "stream",
     "text": [
      "Training Loss: 0.0000 | Train Accuracy: 99.09%\n",
      "\n",
      "| Global Training Round : 172 |\n"
     ]
    },
    {
     "name": "stderr",
     "output_type": "stream",
     "text": [
      "Global Training Rounds:  86%|████████▌ | 172/200 [26:52<04:30,  9.65s/it]"
     ]
    },
    {
     "name": "stdout",
     "output_type": "stream",
     "text": [
      "Training Loss: 0.0000 | Train Accuracy: 99.09%\n",
      "\n",
      "| Global Training Round : 173 |\n"
     ]
    },
    {
     "name": "stderr",
     "output_type": "stream",
     "text": [
      "Global Training Rounds:  86%|████████▋ | 173/200 [27:02<04:22,  9.72s/it]"
     ]
    },
    {
     "name": "stdout",
     "output_type": "stream",
     "text": [
      "Training Loss: 0.0000 | Train Accuracy: 99.09%\n",
      "\n",
      "| Global Training Round : 174 |\n"
     ]
    },
    {
     "name": "stderr",
     "output_type": "stream",
     "text": [
      "Global Training Rounds:  87%|████████▋ | 174/200 [27:11<04:08,  9.54s/it]"
     ]
    },
    {
     "name": "stdout",
     "output_type": "stream",
     "text": [
      "Training Loss: 0.0000 | Train Accuracy: 99.09%\n",
      "\n",
      "| Global Training Round : 175 |\n"
     ]
    },
    {
     "name": "stderr",
     "output_type": "stream",
     "text": [
      "Global Training Rounds:  88%|████████▊ | 175/200 [27:20<03:55,  9.44s/it]"
     ]
    },
    {
     "name": "stdout",
     "output_type": "stream",
     "text": [
      "Training Loss: 0.0000 | Train Accuracy: 99.09%\n",
      "\n",
      "| Global Training Round : 176 |\n"
     ]
    },
    {
     "name": "stderr",
     "output_type": "stream",
     "text": [
      "Global Training Rounds:  88%|████████▊ | 176/200 [27:29<03:44,  9.34s/it]"
     ]
    },
    {
     "name": "stdout",
     "output_type": "stream",
     "text": [
      "Training Loss: 0.0000 | Train Accuracy: 99.09%\n",
      "\n",
      "| Global Training Round : 177 |\n"
     ]
    },
    {
     "name": "stderr",
     "output_type": "stream",
     "text": [
      "Global Training Rounds:  88%|████████▊ | 177/200 [27:39<03:35,  9.37s/it]"
     ]
    },
    {
     "name": "stdout",
     "output_type": "stream",
     "text": [
      "Training Loss: 0.0000 | Train Accuracy: 99.09%\n",
      "\n",
      "| Global Training Round : 178 |\n"
     ]
    },
    {
     "name": "stderr",
     "output_type": "stream",
     "text": [
      "Global Training Rounds:  89%|████████▉ | 178/200 [27:48<03:24,  9.30s/it]"
     ]
    },
    {
     "name": "stdout",
     "output_type": "stream",
     "text": [
      "Training Loss: 0.0000 | Train Accuracy: 99.09%\n",
      "\n",
      "| Global Training Round : 179 |\n"
     ]
    },
    {
     "name": "stderr",
     "output_type": "stream",
     "text": [
      "Global Training Rounds:  90%|████████▉ | 179/200 [27:57<03:14,  9.25s/it]"
     ]
    },
    {
     "name": "stdout",
     "output_type": "stream",
     "text": [
      "Training Loss: 0.0000 | Train Accuracy: 99.09%\n",
      "\n",
      "| Global Training Round : 180 |\n"
     ]
    },
    {
     "name": "stderr",
     "output_type": "stream",
     "text": [
      "Global Training Rounds:  90%|█████████ | 180/200 [28:06<03:04,  9.23s/it]"
     ]
    },
    {
     "name": "stdout",
     "output_type": "stream",
     "text": [
      "Training Loss: 0.0000 | Train Accuracy: 99.09%\n",
      "\n",
      "| Global Training Round : 181 |\n"
     ]
    },
    {
     "name": "stderr",
     "output_type": "stream",
     "text": [
      "Global Training Rounds:  90%|█████████ | 181/200 [28:15<02:54,  9.20s/it]"
     ]
    },
    {
     "name": "stdout",
     "output_type": "stream",
     "text": [
      "Training Loss: 0.0000 | Train Accuracy: 99.08%\n",
      "\n",
      "| Global Training Round : 182 |\n"
     ]
    },
    {
     "name": "stderr",
     "output_type": "stream",
     "text": [
      "Global Training Rounds:  91%|█████████ | 182/200 [28:24<02:45,  9.18s/it]"
     ]
    },
    {
     "name": "stdout",
     "output_type": "stream",
     "text": [
      "Training Loss: 0.0000 | Train Accuracy: 99.08%\n",
      "\n",
      "| Global Training Round : 183 |\n"
     ]
    },
    {
     "name": "stderr",
     "output_type": "stream",
     "text": [
      "Global Training Rounds:  92%|█████████▏| 183/200 [28:33<02:35,  9.17s/it]"
     ]
    },
    {
     "name": "stdout",
     "output_type": "stream",
     "text": [
      "Training Loss: 0.0000 | Train Accuracy: 99.08%\n",
      "\n",
      "| Global Training Round : 184 |\n"
     ]
    },
    {
     "name": "stderr",
     "output_type": "stream",
     "text": [
      "Global Training Rounds:  92%|█████████▏| 184/200 [28:43<02:26,  9.19s/it]"
     ]
    },
    {
     "name": "stdout",
     "output_type": "stream",
     "text": [
      "Training Loss: 0.0000 | Train Accuracy: 99.08%\n",
      "\n",
      "| Global Training Round : 185 |\n"
     ]
    },
    {
     "name": "stderr",
     "output_type": "stream",
     "text": [
      "Global Training Rounds:  92%|█████████▎| 185/200 [28:52<02:18,  9.21s/it]"
     ]
    },
    {
     "name": "stdout",
     "output_type": "stream",
     "text": [
      "Training Loss: 0.0000 | Train Accuracy: 99.08%\n",
      "\n",
      "| Global Training Round : 186 |\n"
     ]
    },
    {
     "name": "stderr",
     "output_type": "stream",
     "text": [
      "Global Training Rounds:  93%|█████████▎| 186/200 [29:01<02:09,  9.23s/it]"
     ]
    },
    {
     "name": "stdout",
     "output_type": "stream",
     "text": [
      "Training Loss: 0.0000 | Train Accuracy: 99.08%\n",
      "\n",
      "| Global Training Round : 187 |\n"
     ]
    },
    {
     "name": "stderr",
     "output_type": "stream",
     "text": [
      "Global Training Rounds:  94%|█████████▎| 187/200 [29:10<01:59,  9.22s/it]"
     ]
    },
    {
     "name": "stdout",
     "output_type": "stream",
     "text": [
      "Training Loss: 0.0000 | Train Accuracy: 99.08%\n",
      "\n",
      "| Global Training Round : 188 |\n"
     ]
    },
    {
     "name": "stderr",
     "output_type": "stream",
     "text": [
      "Global Training Rounds:  94%|█████████▍| 188/200 [29:19<01:50,  9.19s/it]"
     ]
    },
    {
     "name": "stdout",
     "output_type": "stream",
     "text": [
      "Training Loss: 0.0000 | Train Accuracy: 99.08%\n",
      "\n",
      "| Global Training Round : 189 |\n"
     ]
    },
    {
     "name": "stderr",
     "output_type": "stream",
     "text": [
      "Global Training Rounds:  94%|█████████▍| 189/200 [29:29<01:41,  9.19s/it]"
     ]
    },
    {
     "name": "stdout",
     "output_type": "stream",
     "text": [
      "Training Loss: 0.0000 | Train Accuracy: 99.08%\n",
      "\n",
      "| Global Training Round : 190 |\n"
     ]
    },
    {
     "name": "stderr",
     "output_type": "stream",
     "text": [
      "Global Training Rounds:  95%|█████████▌| 190/200 [29:38<01:31,  9.19s/it]"
     ]
    },
    {
     "name": "stdout",
     "output_type": "stream",
     "text": [
      "Training Loss: 0.0000 | Train Accuracy: 99.08%\n",
      "\n",
      "| Global Training Round : 191 |\n"
     ]
    },
    {
     "name": "stderr",
     "output_type": "stream",
     "text": [
      "Global Training Rounds:  96%|█████████▌| 191/200 [29:47<01:22,  9.18s/it]"
     ]
    },
    {
     "name": "stdout",
     "output_type": "stream",
     "text": [
      "Training Loss: 0.0000 | Train Accuracy: 99.08%\n",
      "\n",
      "| Global Training Round : 192 |\n"
     ]
    },
    {
     "name": "stderr",
     "output_type": "stream",
     "text": [
      "Global Training Rounds:  96%|█████████▌| 192/200 [29:57<01:15,  9.49s/it]"
     ]
    },
    {
     "name": "stdout",
     "output_type": "stream",
     "text": [
      "Training Loss: 0.0000 | Train Accuracy: 99.08%\n",
      "\n",
      "| Global Training Round : 193 |\n"
     ]
    },
    {
     "name": "stderr",
     "output_type": "stream",
     "text": [
      "Global Training Rounds:  96%|█████████▋| 193/200 [30:07<01:06,  9.45s/it]"
     ]
    },
    {
     "name": "stdout",
     "output_type": "stream",
     "text": [
      "Training Loss: 0.0000 | Train Accuracy: 99.09%\n",
      "\n",
      "| Global Training Round : 194 |\n"
     ]
    },
    {
     "name": "stderr",
     "output_type": "stream",
     "text": [
      "Global Training Rounds:  97%|█████████▋| 194/200 [30:16<00:56,  9.37s/it]"
     ]
    },
    {
     "name": "stdout",
     "output_type": "stream",
     "text": [
      "Training Loss: 0.0000 | Train Accuracy: 99.09%\n",
      "\n",
      "| Global Training Round : 195 |\n"
     ]
    },
    {
     "name": "stderr",
     "output_type": "stream",
     "text": [
      "Global Training Rounds:  98%|█████████▊| 195/200 [30:25<00:46,  9.30s/it]"
     ]
    },
    {
     "name": "stdout",
     "output_type": "stream",
     "text": [
      "Training Loss: 0.0000 | Train Accuracy: 99.09%\n",
      "\n",
      "| Global Training Round : 196 |\n"
     ]
    },
    {
     "name": "stderr",
     "output_type": "stream",
     "text": [
      "Global Training Rounds:  98%|█████████▊| 196/200 [30:34<00:37,  9.25s/it]"
     ]
    },
    {
     "name": "stdout",
     "output_type": "stream",
     "text": [
      "Training Loss: 0.0000 | Train Accuracy: 99.08%\n",
      "\n",
      "| Global Training Round : 197 |\n"
     ]
    },
    {
     "name": "stderr",
     "output_type": "stream",
     "text": [
      "Global Training Rounds:  98%|█████████▊| 197/200 [30:43<00:27,  9.23s/it]"
     ]
    },
    {
     "name": "stdout",
     "output_type": "stream",
     "text": [
      "Training Loss: 0.0000 | Train Accuracy: 99.08%\n",
      "\n",
      "| Global Training Round : 198 |\n"
     ]
    },
    {
     "name": "stderr",
     "output_type": "stream",
     "text": [
      "Global Training Rounds:  99%|█████████▉| 198/200 [30:52<00:18,  9.21s/it]"
     ]
    },
    {
     "name": "stdout",
     "output_type": "stream",
     "text": [
      "Training Loss: 0.0000 | Train Accuracy: 99.08%\n",
      "\n",
      "| Global Training Round : 199 |\n"
     ]
    },
    {
     "name": "stderr",
     "output_type": "stream",
     "text": [
      "Global Training Rounds: 100%|█████████▉| 199/200 [31:02<00:09,  9.22s/it]"
     ]
    },
    {
     "name": "stdout",
     "output_type": "stream",
     "text": [
      "Training Loss: 0.0000 | Train Accuracy: 99.09%\n",
      "\n",
      "| Global Training Round : 200 |\n"
     ]
    },
    {
     "name": "stderr",
     "output_type": "stream",
     "text": [
      "Global Training Rounds: 100%|██████████| 200/200 [31:11<00:00,  9.36s/it]"
     ]
    },
    {
     "name": "stdout",
     "output_type": "stream",
     "text": [
      "Training Loss: 0.0000 | Train Accuracy: 99.08%\n",
      "Re_Training Time: 1876.33초\n"
     ]
    },
    {
     "name": "stderr",
     "output_type": "stream",
     "text": [
      "\n"
     ]
    },
    {
     "name": "stdout",
     "output_type": "stream",
     "text": [
      "\n",
      "[Test Before Unlearning] Accuracy: 99.08% | Loss: 0.0438\n",
      "[MIA] Evaluating membership inference attack...\n",
      "retain confidence mean: 0.99997807\n",
      "forget confidence mean: 0.9983963\n",
      "evalu retain confidence mean: 0.9978992\n",
      "evalu forget confidence mean: 0.9983963\n",
      "[MIA] AUC: 0.5014\n",
      "\n",
      "[Backdoor Attack Success Rate Evaluation]\n",
      "Backdoor Attack Success Rate (ASR): 9.50%\n"
     ]
    }
   ],
   "source": [
    "main()"
   ]
  }
 ],
 "metadata": {
  "kernelspec": {
   "display_name": "FU",
   "language": "python",
   "name": "python3"
  },
  "language_info": {
   "codemirror_mode": {
    "name": "ipython",
    "version": 3
   },
   "file_extension": ".py",
   "mimetype": "text/x-python",
   "name": "python",
   "nbconvert_exporter": "python",
   "pygments_lexer": "ipython3",
   "version": "3.12.9"
  }
 },
 "nbformat": 4,
 "nbformat_minor": 5
}
